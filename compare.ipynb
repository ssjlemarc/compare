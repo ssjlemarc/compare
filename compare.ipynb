{
  "nbformat": 4,
  "nbformat_minor": 0,
  "metadata": {
    "colab": {
      "name": "compare.ipynb",
      "provenance": [],
      "collapsed_sections": [],
      "authorship_tag": "ABX9TyM/f+VHggQzadQmwnKxr+4S",
      "include_colab_link": true
    },
    "kernelspec": {
      "name": "python3",
      "display_name": "Python 3"
    }
  },
  "cells": [
    {
      "cell_type": "markdown",
      "metadata": {
        "id": "view-in-github",
        "colab_type": "text"
      },
      "source": [
        "<a href=\"https://colab.research.google.com/github/ssjlemarc/compare/blob/master/compare.ipynb\" target=\"_parent\"><img src=\"https://colab.research.google.com/assets/colab-badge.svg\" alt=\"Open In Colab\"/></a>"
      ]
    },
    {
      "cell_type": "code",
      "metadata": {
        "id": "IH8JNc8nExBi",
        "colab_type": "code",
        "colab": {
          "base_uri": "https://localhost:8080/",
          "height": 34
        },
        "outputId": "a9476dd5-ce0f-4d91-ab5e-66f965e10f7d"
      },
      "source": [
        "def compare(A, B):\n",
        "  \"\"\"\n",
        "  -> Verifica se os elementos de uma lista B está contido numa lista A\n",
        "  :param A: lista principal a ser verificada;\n",
        "  :param B: lista com os elementos a serem verificados na lista A;\n",
        "  :return: lista C de mesmo tamanho da lista A que sinaliza com '1' na posição\n",
        "  em que foi encontrado um elemento da lista B e '0' quando não foi encontrado.  \n",
        "  \"\"\"\n",
        "  C = []\n",
        "  for cont in range(0, len(A)):\n",
        "    C.append(0)\n",
        "  for i, v in enumerate(B):\n",
        "   for n, val in enumerate(A):\n",
        "     if A[n] == B[i]:\n",
        "       C[n] += 1\n",
        "  return C\n",
        "\n",
        "\n",
        "#exemplo de aplicação:\n",
        "print(compare(['GK', 'CWP', 'CBT', 'SB', 'DMF', 'WB', 'CMF', 'SMF', 'AMF',\n",
        "           'WF', 'SS', 'CF'], ['WF', 'SS', 'CF']))"
      ],
      "execution_count": 8,
      "outputs": [
        {
          "output_type": "stream",
          "text": [
            "[0, 0, 0, 0, 0, 0, 0, 0, 0, 1, 1, 1]\n"
          ],
          "name": "stdout"
        }
      ]
    },
    {
      "cell_type": "code",
      "metadata": {
        "id": "_HOyCbBhGLp9",
        "colab_type": "code",
        "colab": {}
      },
      "source": [
        ""
      ],
      "execution_count": 0,
      "outputs": []
    }
  ]
}